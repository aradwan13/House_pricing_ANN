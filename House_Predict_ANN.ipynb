{
  "nbformat": 4,
  "nbformat_minor": 0,
  "metadata": {
    "colab": {
      "private_outputs": true,
      "provenance": []
    },
    "kernelspec": {
      "name": "python3",
      "display_name": "Python 3"
    },
    "language_info": {
      "name": "python"
    }
  },
  "cells": [
    {
      "cell_type": "markdown",
      "source": [
        "<h2>Importing Modules</h2>"
      ],
      "metadata": {
        "id": "RUnnsTJpOToe"
      }
    },
    {
      "cell_type": "code",
      "execution_count": null,
      "metadata": {
        "id": "ICl8wEK-MJHy"
      },
      "outputs": [],
      "source": [
        "import numpy as np\n",
        "import pandas as pd\n",
        "import matplotlib.pyplot as plt\n",
        "import seaborn as sns\n",
        "%matplotlib inline\n",
        "# sns.set()"
      ]
    },
    {
      "cell_type": "code",
      "source": [
        "df = pd.read_csv('/content/drive/MyDrive/case_studies/houses.csv')\n",
        "pd.set_option('display.max_columns', None)\n",
        "df.head()"
      ],
      "metadata": {
        "id": "0yNMesheParj"
      },
      "execution_count": null,
      "outputs": []
    },
    {
      "cell_type": "markdown",
      "source": [
        "<h3>Inspecting DataSet</h3>"
      ],
      "metadata": {
        "id": "1okNu9zhQQpZ"
      }
    },
    {
      "cell_type": "code",
      "source": [
        "df.info()"
      ],
      "metadata": {
        "id": "mYV3sfqEP8-Z"
      },
      "execution_count": null,
      "outputs": []
    },
    {
      "cell_type": "code",
      "source": [
        "df.describe()"
      ],
      "metadata": {
        "id": "AxN7UoK0Qtqt"
      },
      "execution_count": null,
      "outputs": []
    },
    {
      "cell_type": "code",
      "source": [
        "df.describe(include=object)"
      ],
      "metadata": {
        "id": "rLDSsfXjQz1K"
      },
      "execution_count": null,
      "outputs": []
    },
    {
      "cell_type": "markdown",
      "source": [
        "<h3>Spliting the DataSet</h3>"
      ],
      "metadata": {
        "id": "tLH6doIPRhdC"
      }
    },
    {
      "cell_type": "code",
      "source": [
        "df.columns"
      ],
      "metadata": {
        "id": "8OOClXlORA2y"
      },
      "execution_count": null,
      "outputs": []
    },
    {
      "cell_type": "code",
      "source": [
        "X = df[['bedrooms', 'bathrooms', 'sqft_living',\n",
        "       'sqft_lot', 'floors', 'waterfront', 'view', 'condition', 'grade',\n",
        "       'sqft_above', 'sqft_basement', 'yr_built', 'yr_renovated', 'zipcode',\n",
        "       'lat', 'long', 'sqft_living15', 'sqft_lot15']]"
      ],
      "metadata": {
        "id": "jllmrE3yRprk"
      },
      "execution_count": null,
      "outputs": []
    },
    {
      "cell_type": "code",
      "source": [
        "y = df[['price']]"
      ],
      "metadata": {
        "id": "VbLPE5agRv0D"
      },
      "execution_count": null,
      "outputs": []
    },
    {
      "cell_type": "code",
      "execution_count": null,
      "metadata": {
        "id": "UZ6gyKSrayZw"
      },
      "outputs": [],
      "source": [
        "from sklearn.model_selection import train_test_split"
      ]
    },
    {
      "cell_type": "code",
      "execution_count": null,
      "metadata": {
        "id": "sRYY5jfmbzTn"
      },
      "outputs": [],
      "source": [
        "X_train, X_test, y_train, y_test = train_test_split(X, y, test_size=0.3, random_state=42)"
      ]
    },
    {
      "cell_type": "markdown",
      "source": [
        "<h3>Scaling the DataSet</h3>"
      ],
      "metadata": {
        "id": "M1i5ZKMVSjjZ"
      }
    },
    {
      "cell_type": "code",
      "source": [
        "from sklearn.preprocessing import StandardScaler\n",
        "sc = StandardScaler()"
      ],
      "metadata": {
        "id": "8X2ZuHmiR0Ja"
      },
      "execution_count": null,
      "outputs": []
    },
    {
      "cell_type": "code",
      "execution_count": null,
      "metadata": {
        "id": "mMH9xe4hkJ2i"
      },
      "outputs": [],
      "source": [
        "X_train= sc.fit_transform(X_train)"
      ]
    },
    {
      "cell_type": "code",
      "execution_count": null,
      "metadata": {
        "id": "-eBEqDQlkJwc"
      },
      "outputs": [],
      "source": [
        "X_test= sc.fit_transform(X_test)"
      ]
    },
    {
      "cell_type": "markdown",
      "metadata": {
        "id": "94jV-3Ldv1lX"
      },
      "source": [
        "<h2> Artificial Neural Network </h2>\n"
      ]
    },
    {
      "cell_type": "markdown",
      "metadata": {
        "id": "wo9A73S_wB4m"
      },
      "source": [
        "<h3> Model Building </h3>"
      ]
    },
    {
      "cell_type": "code",
      "source": [
        "import tensorflow as tf"
      ],
      "metadata": {
        "id": "84VIiSItTrEp"
      },
      "execution_count": null,
      "outputs": []
    },
    {
      "cell_type": "code",
      "source": [
        "from keras.models import Sequential\n",
        "from keras.layers import Dense,Dropout,Activation,BatchNormalization"
      ],
      "metadata": {
        "id": "UXttcCeITq9M"
      },
      "execution_count": null,
      "outputs": []
    },
    {
      "cell_type": "code",
      "source": [
        "ann = Sequential()\n",
        "\n",
        "ann.add(Dense(100, input_dim=18, activation = 'relu'))\n",
        "ann.add(Dropout(0.2))\n",
        "\n",
        "ann.add(Dense(100, activation='relu',))\n",
        "\n",
        "ann.add(Dense(75, activation='relu',))\n",
        "\n",
        "ann.add(Dense(50,  activation='relu'))\n",
        "\n",
        "ann.add(Dense(25,  activation='relu'))\n",
        "\n",
        "ann.add(Dense(15,  activation='relu'))\n",
        "\n",
        "ann.add(Dense(1,   activation='linear'))"
      ],
      "metadata": {
        "id": "cSdZpuIuUAuw"
      },
      "execution_count": null,
      "outputs": []
    },
    {
      "cell_type": "code",
      "source": [
        "ann.summary()"
      ],
      "metadata": {
        "id": "sHS15o0hUAsB"
      },
      "execution_count": null,
      "outputs": []
    },
    {
      "cell_type": "code",
      "source": [
        "ann.compile(loss = tf.keras.losses.mse, optimizer = tf.keras.optimizers.Adam(lr = 0.01), metrics = ['mse'])"
      ],
      "metadata": {
        "id": "m-VfCTsiUApd"
      },
      "execution_count": null,
      "outputs": []
    },
    {
      "cell_type": "code",
      "source": [
        "ann.fit(X_train, y_train, epochs=500, batch_size=550,  verbose=1, validation_split=0.3)"
      ],
      "metadata": {
        "id": "lNiKEXlXVLnQ"
      },
      "execution_count": null,
      "outputs": []
    },
    {
      "cell_type": "markdown",
      "source": [
        "<h3>Model Evaluation</h3>"
      ],
      "metadata": {
        "id": "dg00oU3TVyiq"
      }
    },
    {
      "cell_type": "code",
      "source": [
        "print(epochs_hist.history.keys())"
      ],
      "metadata": {
        "id": "iz_LcdqDVtf0"
      },
      "execution_count": null,
      "outputs": []
    },
    {
      "cell_type": "code",
      "source": [
        "plt.plot(epochs_hist.history['loss'])\n",
        "plt.plot(epochs_hist.history['val_loss'])\n",
        "\n",
        "plt.title('Model Loss Progression During Training/Validation')\n",
        "plt.ylabel('Training and Validation Losses')\n",
        "plt.xlabel('Epoch Number')\n",
        "plt.legend(['Training Loss', 'Validation Loss'])"
      ],
      "metadata": {
        "id": "MGzC-KR_VtdL"
      },
      "execution_count": null,
      "outputs": []
    },
    {
      "cell_type": "code",
      "source": [
        "y_pred = ann.predict(X_test)\n",
        "y_pred"
      ],
      "metadata": {
        "id": "bMUNfMHkWqTj"
      },
      "execution_count": null,
      "outputs": []
    },
    {
      "cell_type": "code",
      "source": [
        "ann.evaluate(X_test, y_test)"
      ],
      "metadata": {
        "id": "YcwIyOWHfn_x"
      },
      "execution_count": null,
      "outputs": []
    },
    {
      "cell_type": "code",
      "source": [
        "from sklearn.metrics import r2_score,mean_squared_error"
      ],
      "metadata": {
        "id": "9_5OYaGVVtVb"
      },
      "execution_count": null,
      "outputs": []
    },
    {
      "cell_type": "code",
      "source": [
        "print(r2_score(y_test, y_pred))\n",
        "\n",
        "print(mean_squared_error(y_test, y_pred))\n",
        "\n",
        "print(np.sqrt(mean_squared_error(y_test, y_pred)))"
      ],
      "metadata": {
        "id": "jm0sZqXZWdwV"
      },
      "execution_count": null,
      "outputs": []
    },
    {
      "cell_type": "code",
      "source": [
        "from tensorflow.keras.utils import plot_model\n",
        "\n",
        "plot_model(ann, show_shapes = True)"
      ],
      "metadata": {
        "id": "w_1rzS4Kg4Wl"
      },
      "execution_count": null,
      "outputs": []
    }
  ]
}